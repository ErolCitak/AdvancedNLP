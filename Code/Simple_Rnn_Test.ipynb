{
 "cells": [
  {
   "cell_type": "code",
   "execution_count": 11,
   "metadata": {},
   "outputs": [],
   "source": [
    "# https://deeplearningcourses.com/c/deep-learning-advanced-nlp\n",
    "from __future__ import print_function, division\n",
    "from builtins import range, input\n",
    "# Note: you may need to update your version of future\n",
    "# sudo pip install -U future\n",
    "\n",
    "from keras.models import Model\n",
    "from keras.layers import Input, LSTM, GRU\n",
    "import numpy as np\n",
    "import matplotlib.pyplot as plt\n",
    "\n",
    "import keras.backend as K"
   ]
  },
  {
   "cell_type": "code",
   "execution_count": 6,
   "metadata": {},
   "outputs": [],
   "source": [
    "T = 8 # t tane time step olacak\n",
    "D = 2 # her time stepe giren oznitellik vektorunun boyutu\n",
    "M = 3 # lstm hücresinin ağırlık matrisinin boyutu"
   ]
  },
  {
   "cell_type": "code",
   "execution_count": 15,
   "metadata": {},
   "outputs": [],
   "source": [
    "data = np.random.randn(1,T,D)"
   ]
  },
  {
   "cell_type": "code",
   "execution_count": 16,
   "metadata": {},
   "outputs": [
    {
     "data": {
      "text/plain": [
       "array([[[-0.02841764, -1.09113959],\n",
       "        [ 2.28232171, -0.68889252],\n",
       "        [-0.20249317,  0.05276723],\n",
       "        [ 0.74401367, -0.34785084],\n",
       "        [-0.24985871, -0.03780174],\n",
       "        [ 0.15956984, -0.06990336],\n",
       "        [-0.18036725,  1.09108597],\n",
       "        [ 0.11006348, -0.42655369]]])"
      ]
     },
     "execution_count": 16,
     "metadata": {},
     "output_type": "execute_result"
    }
   ],
   "source": [
    "data"
   ]
  },
  {
   "cell_type": "code",
   "execution_count": 21,
   "metadata": {},
   "outputs": [],
   "source": [
    "def lstm1():\n",
    "    input_ = Input(shape=(T, D))\n",
    "    rnn = LSTM(M, return_state=True)\n",
    "    \n",
    "    x = rnn(input_)\n",
    "\n",
    "    model = Model(inputs=input_, outputs=x)\n",
    "    o , h, c = model.predict(data)\n",
    "    \n",
    "    print(\"o:\", o)\n",
    "    print(\"h:\", h)\n",
    "    print(\"c:\", c)"
   ]
  },
  {
   "cell_type": "code",
   "execution_count": 22,
   "metadata": {},
   "outputs": [
    {
     "name": "stdout",
     "output_type": "stream",
     "text": [
      "o: [[ 0.01972121 -0.07622948 -0.05682108]]\n",
      "h: [[ 0.01972121 -0.07622948 -0.05682108]]\n",
      "c: [[ 0.0362429  -0.14638871 -0.1128479 ]]\n"
     ]
    }
   ],
   "source": [
    "lstm1()"
   ]
  },
  {
   "cell_type": "code",
   "execution_count": 23,
   "metadata": {},
   "outputs": [],
   "source": [
    "def lstm2():\n",
    "    input_ = Input(shape=(T, D))\n",
    "    rnn = LSTM(M, return_state=True, return_sequences=True)\n",
    "    \n",
    "    x = rnn(input_)\n",
    "\n",
    "    model = Model(inputs=input_, outputs=x)\n",
    "    o, h, c = model.predict(data)\n",
    "    \n",
    "    print(\"o:\", o)\n",
    "    print(\"h:\", h)\n",
    "    print(\"c:\", c)"
   ]
  },
  {
   "cell_type": "code",
   "execution_count": 24,
   "metadata": {},
   "outputs": [
    {
     "name": "stdout",
     "output_type": "stream",
     "text": [
      "o: [[[-0.08114209 -0.14214274 -0.08218926]\n",
      "  [ 0.02384127  0.04328049  0.06182485]\n",
      "  [ 0.01149886  0.01716667  0.08011347]\n",
      "  [-0.00054923  0.04273032  0.12150884]\n",
      "  [-0.02383766 -0.00715027  0.06857187]\n",
      "  [-0.0213      0.00508332  0.06780134]\n",
      "  [ 0.03433961  0.12202879  0.09212343]\n",
      "  [-0.02031998  0.01183021  0.04342412]]]\n",
      "h: [[-0.02031998  0.01183021  0.04342412]]\n",
      "c: [[-0.0445527   0.02525242  0.08965096]]\n"
     ]
    }
   ],
   "source": [
    "lstm2()"
   ]
  },
  {
   "cell_type": "code",
   "execution_count": 27,
   "metadata": {},
   "outputs": [],
   "source": [
    "def gru1():\n",
    "    input_ = Input(shape=(T, D))\n",
    "    rnn = GRU(M, return_state=True)\n",
    "    x = rnn(input_)\n",
    "\n",
    "    model = Model(inputs=input_, outputs=x)\n",
    "    o, h = model.predict(data)\n",
    "    print(\"o:\", o)\n",
    "    print(\"h:\", h)"
   ]
  },
  {
   "cell_type": "code",
   "execution_count": 28,
   "metadata": {},
   "outputs": [
    {
     "name": "stdout",
     "output_type": "stream",
     "text": [
      "o: [[ 0.02557967  0.00472661 -0.00956878]]\n",
      "h: [[ 0.02557967  0.00472661 -0.00956878]]\n"
     ]
    }
   ],
   "source": [
    "gru1()"
   ]
  },
  {
   "cell_type": "code",
   "execution_count": 29,
   "metadata": {},
   "outputs": [],
   "source": [
    "def gru2():\n",
    "    input_ = Input(shape=(T, D))\n",
    "    rnn = GRU(M, return_state=True, return_sequences=True)\n",
    "    x = rnn(input_)\n",
    "\n",
    "    model = Model(inputs=input_, outputs=x)\n",
    "    o, h = model.predict(data)\n",
    "    print(\"o:\", o)\n",
    "    print(\"h:\", h)"
   ]
  },
  {
   "cell_type": "code",
   "execution_count": 30,
   "metadata": {},
   "outputs": [
    {
     "name": "stdout",
     "output_type": "stream",
     "text": [
      "o: [[[ 0.2015297  -0.1563578   0.31344157]\n",
      "  [ 0.02879117  0.2336666   0.56758326]\n",
      "  [ 0.11533238  0.08642614  0.21710616]\n",
      "  [ 0.03877586  0.10379539  0.27077228]\n",
      "  [ 0.10855984 -0.00403122  0.09690922]\n",
      "  [ 0.06098944  0.00515877  0.06272668]\n",
      "  [-0.1386663   0.16729318 -0.20153648]\n",
      "  [-0.05685478  0.06095742  0.08996349]]]\n",
      "h: [[-0.05685478  0.06095742  0.08996349]]\n"
     ]
    }
   ],
   "source": [
    "gru2()"
   ]
  }
 ],
 "metadata": {
  "kernelspec": {
   "display_name": "Python 3",
   "language": "python",
   "name": "python3"
  },
  "language_info": {
   "codemirror_mode": {
    "name": "ipython",
    "version": 3
   },
   "file_extension": ".py",
   "mimetype": "text/x-python",
   "name": "python",
   "nbconvert_exporter": "python",
   "pygments_lexer": "ipython3",
   "version": "3.6.5"
  }
 },
 "nbformat": 4,
 "nbformat_minor": 2
}
